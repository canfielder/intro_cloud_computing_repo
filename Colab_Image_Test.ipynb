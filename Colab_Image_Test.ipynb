{
  "nbformat": 4,
  "nbformat_minor": 0,
  "metadata": {
    "colab": {
      "name": "Colab_Image_Test.ipynb",
      "provenance": [],
      "authorship_tag": "ABX9TyPOdFA+quLuokkIwqq6t5OH",
      "include_colab_link": true
    },
    "kernelspec": {
      "name": "python3",
      "display_name": "Python 3"
    }
  },
  "cells": [
    {
      "cell_type": "markdown",
      "metadata": {
        "id": "view-in-github",
        "colab_type": "text"
      },
      "source": [
        "<a href=\"https://colab.research.google.com/github/canfielder/intro_cloud_computing_repo/blob/master/Colab_Image_Test.ipynb\" target=\"_parent\"><img src=\"https://colab.research.google.com/assets/colab-badge.svg\" alt=\"Open In Colab\"/></a>"
      ]
    },
    {
      "cell_type": "code",
      "metadata": {
        "id": "w5ND0UK5OkYe",
        "colab_type": "code",
        "colab": {}
      },
      "source": [
        "print('Hello Colab - Image Test')"
      ],
      "execution_count": 0,
      "outputs": []
    },
    {
      "cell_type": "markdown",
      "metadata": {
        "id": "9bkWgOirY_b5",
        "colab_type": "text"
      },
      "source": [
        "![alt text](https://user-images.githubusercontent.com/38056064/73123623-dec33700-3f5f-11ea-914a-a11b7925b276.png)"
      ]
    }
  ]
}